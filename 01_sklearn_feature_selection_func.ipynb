{
  "nbformat": 4,
  "nbformat_minor": 0,
  "metadata": {
    "colab": {
      "provenance": [],
      "toc_visible": true
    },
    "kernelspec": {
      "name": "python3",
      "display_name": "Python 3"
    },
    "language_info": {
      "name": "python"
    }
  },
  "cells": [
    {
      "cell_type": "markdown",
      "source": [
        "# <center>`sklearn.feature_selection`</center>"
      ],
      "metadata": {
        "id": "ozQ12zhDQlQi"
      }
    },
    {
      "cell_type": "markdown",
      "source": [
        "**Selectors Function**"
      ],
      "metadata": {
        "id": "qOJyIjanfLob"
      }
    },
    {
      "cell_type": "markdown",
      "source": [
        "- `VarianceThreshold`: This class removes features with low variance. It allows you to select features based on a threshold for variance.\n",
        "\n",
        "- `SelectKBest`: This class selects the K best features based on univariate statistical tests, such as chi-squared test, mutual information, or ANOVA F-value.\n",
        "\n",
        "- `SelectPercentile`: This class selects the top percentile of features based on univariate statistical tests. You can specify the percentile of features to keep.\n",
        "\n",
        "- `SelectFpr`, `SelectFdr`, `SelectFwe`: They use statistical tests to evaluate the importance of features.\n",
        "    - `SelectFpr`: Selects features based on a **false positive rate**.\n",
        "    - `SelectFdr`: Selects features based on a **false discovery rate**.\n",
        "    - `SelectFwe`: Selects features based on a **family-wise error rate**.\n",
        "\n",
        "- `GenericUnivariateSelect`: This class allows you to perform feature selection using different univariate statistical tests and strategies. You can specify the scoring function and strategy for feature selection.\n",
        "\n",
        "- `SelectFromModel`: This class selects features based on the importance derived from a supervised learning model. You can specify a base estimator and a threshold to control the number of selected features.\n",
        "\n",
        "- `RFE (Recursive Feature Elimination)`: This class performs recursive feature elimination by recursively eliminating less important features based on the importance of features from an underlying model.\n",
        "\n",
        "- `RFECV (Recursive Feature Elimination with Cross-Validation)`: This class performs recursive feature elimination with cross-validation to determine the optimal number of features. It uses RFE and performs cross-validation to find the best number of features.\n",
        "\n",
        "- `SelectFromModel`: Selects features based on the importance derived from a supervised learning model.\n",
        "\n",
        "\n",
        "\n"
      ],
      "metadata": {
        "id": "gJoyrg4HOwSz"
      }
    },
    {
      "cell_type": "markdown",
      "source": [
        "**Scoring Functions**"
      ],
      "metadata": {
        "id": "d9auu2uyfC4S"
      }
    },
    {
      "cell_type": "markdown",
      "source": [
        "The `sklearn.feature_selection` module provides several `scoring functions` that can be used with the `SelectKBest` class to perform feature selection based on `univariate statistical tests`. Here are the scoring functions available:\n",
        "\n",
        "- **Classification tasks:**\n",
        "\n",
        "    - `mutual_info_classif`: This function estimates the mutual information between each feature and the target variable in a classification problem. It can handle both discrete and continuous features.\n",
        "\n",
        "    - `f_classif`: This function performs an analysis of variance (ANOVA) test between each feature and the target variable. It assumes that the feature variables are continuous and the target variable is categorical.\n",
        "\n",
        "    - `chi2`: This function computes chi-square statistics between each feature and the target variable. It assumes that both the feature and target variables are categorical.\n",
        "\n",
        "\n",
        "\n",
        "- **Regression tasks**:\n",
        "\n",
        "    - `mutual_info_regression`: This function estimates the mutual information between each feature and the target variable in a regression problem. It can handle both discrete and continuous features.\n",
        "\n",
        "    - `f_regression`: This function performs an ANOVA test between each feature and the target variable. It assumes that both the feature and target variables are continuous.\n",
        "\n",
        "    - `r_regression`: This function computes the coefficient of determination (R^2) between each feature and the target variable. It assumes that both the feature and target variables are continuous.\n",
        "\n",
        "These scoring functions provide different statistical tests and measures to assess the relationship between each feature and the target variable. By using them with the SelectKBest class, you can select the best K features based on their scores or p-values, depending on the specific scoring function used."
      ],
      "metadata": {
        "id": "Qp0Cp1byP-bs"
      }
    },
    {
      "cell_type": "code",
      "source": [
        "wine_url = \"https://gist.githubusercontent.com/tijptjik/9408623/raw/b237fa5848349a14a14e5d4107dc7897c21951f5/wine.csv\""
      ],
      "metadata": {
        "id": "zjE7Z4E_U1XL"
      },
      "execution_count": null,
      "outputs": []
    },
    {
      "cell_type": "markdown",
      "source": [
        "`Index(['Wine', 'Alcohol', 'Malic.acid', 'Ash', 'Acl', 'Mg', 'Phenols',\n",
        "       'Flavanoids', 'Nonflavanoid.phenols', 'Proanth', 'Color.int', 'Hue',\n",
        "       'OD', 'Proline'],\n",
        "      dtype='object')`"
      ],
      "metadata": {
        "id": "3b67tF2LVvqv"
      }
    },
    {
      "cell_type": "markdown",
      "source": [
        "### **Removing features with low variance**"
      ],
      "metadata": {
        "id": "39xl0jlCRLB6"
      }
    },
    {
      "cell_type": "code",
      "source": [
        "import pandas as pd\n",
        "from sklearn.feature_selection import VarianceThreshold\n",
        "\n",
        "# Load the Wine dataset\n",
        "wine_data = pd.read_csv(wine_url)\n",
        "\n",
        "# Separate the features (X) and the target variable (y)\n",
        "X = wine_data.drop('Wine', axis=1)\n",
        "y = wine_data['Wine']\n",
        "\n",
        "# Create VarianceThreshold object\n",
        "threshold = 0.8  # Set the threshold for variance\n",
        "variance_selector = VarianceThreshold(threshold)\n",
        "\n",
        "# Fit the selector to the data\n",
        "variance_selector.fit(X)\n",
        "\n",
        "# Get the indices of the features to keep\n",
        "feature_indices = variance_selector.get_support(indices=True)\n",
        "\n",
        "# Get the feature names to keep\n",
        "feature_names = X.columns[feature_indices]\n",
        "\n",
        "# Create a new DataFrame with the selected features\n",
        "X_selected = X[feature_names]\n",
        "\n",
        "# Print the selected feature names\n",
        "print(\"Selected features:\")\n",
        "print(feature_names)"
      ],
      "metadata": {
        "colab": {
          "base_uri": "https://localhost:8080/"
        },
        "id": "31iZl0WVUlpz",
        "outputId": "7a4653eb-5ab9-4902-864b-24bfab1b78cf"
      },
      "execution_count": null,
      "outputs": [
        {
          "output_type": "stream",
          "name": "stdout",
          "text": [
            "Selected features:\n",
            "Index(['Malic.acid', 'Acl', 'Mg', 'Flavanoids', 'Color.int', 'Proline'], dtype='object')\n"
          ]
        }
      ]
    },
    {
      "cell_type": "markdown",
      "source": [
        "### **SelectPercentile**"
      ],
      "metadata": {
        "id": "8RoCxrI4bsj7"
      }
    },
    {
      "cell_type": "code",
      "source": [
        "import pandas as pd\n",
        "import matplotlib.pyplot as plt\n",
        "from sklearn.feature_selection import SelectPercentile, f_classif\n",
        "from sklearn.datasets import load_wine\n",
        "\n",
        "# Load the Wine dataset\n",
        "wine = load_wine()\n",
        "X = wine.data\n",
        "y = wine.target\n",
        "feature_names = wine.feature_names\n",
        "\n",
        "# Perform feature selection using SelectPercentile\n",
        "selector = SelectPercentile(score_func=f_classif, percentile=50)\n",
        "X_new = selector.fit_transform(X, y)\n",
        "\n",
        "# Get the support of the selected features\n",
        "feature_support = selector.get_support()\n",
        "\n",
        "# Get the names of the selected features\n",
        "selected_features = [feature_names[i] for i, support in enumerate(feature_support) if support]\n",
        "\n",
        "# Print the selected feature names\n",
        "print(\"Selected feature names:\")\n",
        "for index, name in enumerate(selected_features):\n",
        "    print(index, name)\n",
        "\n",
        "# Plot feature scores\n",
        "scores = selector.scores_\n",
        "plt.figure()\n",
        "sorted_indices = sorted(range(len(scores)), key=lambda k: scores[k])\n",
        "sorted_scores = [scores[i] for i in sorted_indices]\n",
        "sorted_labels = [feature_names[i] for i in sorted_indices]\n",
        "plt.bar(range(len(scores)), sorted_scores)\n",
        "plt.xticks(range(len(scores)), sorted_labels, rotation='vertical')\n",
        "plt.xlabel('Features')\n",
        "plt.ylabel('Score')\n",
        "plt.title('Feature Scores')\n",
        "plt.show()\n",
        "\n",
        "# Print the shape of the transformed feature matrix\n",
        "print(\"\\n\")\n",
        "print(\"Shape of X:\", X.shape)\n",
        "print(\"Shape of y:\", y.shape)\n",
        "print(\"Shape of X_new:\", X_new.shape)"
      ],
      "metadata": {
        "colab": {
          "base_uri": "https://localhost:8080/",
          "height": 880
        },
        "id": "A_7CxmrwbtEE",
        "outputId": "ad484b17-88c7-4255-8109-c71c36578cd1"
      },
      "execution_count": null,
      "outputs": [
        {
          "output_type": "stream",
          "name": "stdout",
          "text": [
            "Selected feature names:\n",
            "0 alcohol\n",
            "1 flavanoids\n",
            "2 color_intensity\n",
            "3 hue\n",
            "4 od280/od315_of_diluted_wines\n",
            "5 proline\n"
          ]
        },
        {
          "output_type": "display_data",
          "data": {
            "text/plain": [
              "<Figure size 640x480 with 1 Axes>"
            ],
            "image/png": "[encoded data removed]"
          },
          "metadata": {}
        },
        {
          "output_type": "stream",
          "name": "stdout",
          "text": [
            "\n",
            "\n",
            "Shape of X: (178, 13)\n",
            "Shape of y: (178,)\n",
            "Shape of X_new: (178, 6)\n"
          ]
        }
      ]
    },
    {
      "cell_type": "markdown",
      "source": [
        "### `SelectFpr`, `SelectFdr`, `SelectFwe`"
      ],
      "metadata": {
        "id": "QU_sUdDTck8R"
      }
    },
    {
      "cell_type": "code",
      "source": [
        "import pandas as pd\n",
        "from sklearn.feature_selection import SelectFpr, SelectFdr, SelectFwe\n",
        "from sklearn.feature_selection import chi2, f_classif\n",
        "from sklearn.datasets import load_wine\n",
        "\n",
        "# Load the Wine dataset\n",
        "wine = load_wine()\n",
        "X = wine.data\n",
        "y = wine.target\n",
        "feature_names = wine.feature_names\n",
        "\n",
        "# Perform feature selection using SelectFpr\n",
        "selector_fpr = SelectFpr(score_func=chi2, alpha=0.05)\n",
        "X_new_fpr = selector_fpr.fit_transform(X, y)\n",
        "\n",
        "# Perform feature selection using SelectFdr\n",
        "selector_fdr = SelectFdr(score_func=f_classif, alpha=0.05)\n",
        "X_new_fdr = selector_fdr.fit_transform(X, y)\n",
        "\n",
        "# Perform feature selection using SelectFwe\n",
        "selector_fwe = SelectFwe(score_func=f_classif, alpha=0.05)\n",
        "X_new_fwe = selector_fwe.fit_transform(X, y)\n",
        "\n",
        "# Get the support of the selected features for each method\n",
        "feature_support_fpr = selector_fpr.get_support()\n",
        "feature_support_fdr = selector_fdr.get_support()\n",
        "feature_support_fwe = selector_fwe.get_support()\n",
        "\n",
        "# Get the names of the selected features for each method\n",
        "selected_features_fpr = [feature_names[i] for i, support in enumerate(feature_support_fpr) if support]\n",
        "selected_features_fdr = [feature_names[i] for i, support in enumerate(feature_support_fdr) if support]\n",
        "selected_features_fwe = [feature_names[i] for i, support in enumerate(feature_support_fwe) if support]\n",
        "\n",
        "# Sort the selected feature names in ascending order\n",
        "selected_features_fpr.sort()\n",
        "selected_features_fdr.sort()\n",
        "selected_features_fwe.sort()\n",
        "\n",
        "# Print the selected feature names for each method\n",
        "print(\"Selected feature names using SelectFpr (sorted in ascending order):\")\n",
        "for index, name in enumerate(selected_features_fpr):\n",
        "    print(index, name)\n",
        "\n",
        "print(\"\\nSelected feature names using SelectFdr (sorted in ascending order):\")\n",
        "for index, name in enumerate(selected_features_fdr):\n",
        "    print(index, name)\n",
        "\n",
        "print(\"\\nSelected feature names using SelectFwe (sorted in ascending order):\")\n",
        "for index, name in enumerate(selected_features_fwe):\n",
        "    print(index, name)\n",
        "\n",
        "# Print the shape of the transformed feature matrices\n",
        "print(\"\\nShape of X_new (SelectFpr):\", X_new_fpr.shape)\n",
        "print(\"Shape of X_new (SelectFdr):\", X_new_fdr.shape)\n",
        "print(\"Shape of X_new (SelectFwe):\", X_new_fwe.shape)"
      ],
      "metadata": {
        "colab": {
          "base_uri": "https://localhost:8080/"
        },
        "id": "XWZjNl_VcoEQ",
        "outputId": "7de10c2f-da58-4664-a722-0934a52eca4c"
      },
      "execution_count": null,
      "outputs": [
        {
          "output_type": "stream",
          "name": "stdout",
          "text": [
            "Selected feature names using SelectFpr (sorted in ascending order):\n",
            "0 alcalinity_of_ash\n",
            "1 color_intensity\n",
            "2 flavanoids\n",
            "3 magnesium\n",
            "4 malic_acid\n",
            "5 od280/od315_of_diluted_wines\n",
            "6 proanthocyanins\n",
            "7 proline\n",
            "8 total_phenols\n",
            "\n",
            "Selected feature names using SelectFdr (sorted in ascending order):\n",
            "0 alcalinity_of_ash\n",
            "1 alcohol\n",
            "2 ash\n",
            "3 color_intensity\n",
            "4 flavanoids\n",
            "5 hue\n",
            "6 magnesium\n",
            "7 malic_acid\n",
            "8 nonflavanoid_phenols\n",
            "9 od280/od315_of_diluted_wines\n",
            "10 proanthocyanins\n",
            "11 proline\n",
            "12 total_phenols\n",
            "\n",
            "Selected feature names using SelectFwe (sorted in ascending order):\n",
            "0 alcalinity_of_ash\n",
            "1 alcohol\n",
            "2 ash\n",
            "3 color_intensity\n",
            "4 flavanoids\n",
            "5 hue\n",
            "6 magnesium\n",
            "7 malic_acid\n",
            "8 nonflavanoid_phenols\n",
            "9 od280/od315_of_diluted_wines\n",
            "10 proanthocyanins\n",
            "11 proline\n",
            "12 total_phenols\n",
            "\n",
            "Shape of X_new (SelectFpr): (178, 9)\n",
            "Shape of X_new (SelectFdr): (178, 13)\n",
            "Shape of X_new (SelectFwe): (178, 13)\n"
          ]
        }
      ]
    },
    {
      "cell_type": "markdown",
      "source": [
        "**NOTE**\n",
        "\n",
        "we cannot use `mutual_info_classif` as scoring func in the code above as this  function does not provide p-values, which are required for the `SelectFwe` feature selection method.\n",
        "\n",
        "- `alpha` parameter: it represents the significance level or the threshold for determining the importance of features. In this case, an alpha value of `0.05` is commonly used, which means that features with p-values less than `0.05` are considered statistically significant and selected as important features."
      ],
      "metadata": {
        "id": "iL6wTua4egwC"
      }
    },
    {
      "cell_type": "markdown",
      "source": [
        "## **Univariate feature selection**"
      ],
      "metadata": {
        "id": "sO_IhBOSRH26"
      }
    },
    {
      "cell_type": "markdown",
      "source": [
        "`GenericUnivariateSelect`"
      ],
      "metadata": {
        "id": "uK0e3qJEgUg7"
      }
    },
    {
      "cell_type": "markdown",
      "source": [
        "```python\n",
        "\n",
        "# Define a custom scoring function\n",
        "def custom_score_func(X, y):\n",
        "    # Calculate the score for each feature\n",
        "    scores = <custom scoring logic>\n",
        "    return scores\n",
        "\n",
        "\n",
        "```"
      ],
      "metadata": {
        "id": "RV9EZLkHhHXF"
      }
    },
    {
      "cell_type": "code",
      "source": [],
      "metadata": {
        "id": "q6U9rhTdjca8"
      },
      "execution_count": null,
      "outputs": []
    },
    {
      "cell_type": "code",
      "source": [
        "import pandas as pd\n",
        "import numpy as np\n",
        "from sklearn.feature_selection import GenericUnivariateSelect\n",
        "from sklearn.feature_selection import mutual_info_classif\n",
        "from sklearn.feature_selection import f_classif\n",
        "from sklearn.ensemble import RandomForestClassifier\n",
        "from sklearn.feature_selection import chi2\n",
        "from sklearn.datasets import load_wine\n",
        "\n",
        "# Load the Wine dataset\n",
        "wine = load_wine()\n",
        "X = wine.data\n",
        "y = wine.target\n",
        "feature_names = wine.feature_names\n",
        "\n",
        "\n",
        "# coustom function\n",
        "def custom_score_func(X, y):\n",
        "    # Calculate the absolute differences between feature values and target variable\n",
        "    feature_diffs = np.abs(X - np.mean(y))\n",
        "    # Sum the differences across each feature\n",
        "    feature_scores = np.sum(feature_diffs, axis=0)\n",
        "    return feature_scores\n",
        "\n",
        "# Mutual Information:\n",
        "def mutual_info_score(X, y):\n",
        "    scores = mutual_info_classif(X, y)\n",
        "    return scores\n",
        "\n",
        "# ANOVA F-value:\n",
        "def f_value_score(X, y):\n",
        "    f_values, _ = f_classif(X, y)\n",
        "    return f_values\n",
        "\n",
        "\n",
        "# Gini Index:\n",
        "def gini_index_score(X, y):\n",
        "    rf = RandomForestClassifier()\n",
        "    rf.fit(X, y)\n",
        "    feature_importances = rf.feature_importances_\n",
        "    scores = 1 - feature_importances\n",
        "    return scores\n",
        "\n",
        "# Chi-squared:\n",
        "def chi2_score(X, y):\n",
        "    chi2_values, _ = chi2(X, y)\n",
        "    return chi2_values\n",
        "\n",
        "# Scoring functions\n",
        "scoring_functions = [custom_score_func, mutual_info_score, f_value_score, gini_index_score, chi2_score]\n",
        "\n",
        "for i, score_func in enumerate(scoring_functions):\n",
        "    # Create an instance of GenericUnivariateSelect with the scoring function\n",
        "    selector = GenericUnivariateSelect(score_func=score_func, mode='k_best', param=5)\n",
        "    X_new = selector.fit_transform(X, y)\n",
        "\n",
        "    # Get the support of the selected features\n",
        "    feature_support = selector.get_support()\n",
        "\n",
        "    # Get the names of the selected features\n",
        "    selected_features = [feature_names[i] for i, support in enumerate(feature_support) if support]\n",
        "\n",
        "    # Print the selected feature names\n",
        "    print(f\"\\nSelected feature names using {scoring_functions[i].__name__}:\")\n",
        "    for index, name in enumerate(selected_features):\n",
        "        print(index, name)\n",
        "\n",
        "    # Print the shape of the transformed feature matrix\n",
        "    print(\"Shape of X_new:\", X_new.shape)"
      ],
      "metadata": {
        "colab": {
          "base_uri": "https://localhost:8080/"
        },
        "id": "DygCge32gcDS",
        "outputId": "90ea0366-1992-4ada-df6e-45e9bb24d873"
      },
      "execution_count": null,
      "outputs": [
        {
          "output_type": "stream",
          "name": "stdout",
          "text": [
            "\n",
            "Selected feature names using custom_score_func:\n",
            "0 alcohol\n",
            "1 alcalinity_of_ash\n",
            "2 magnesium\n",
            "3 color_intensity\n",
            "4 proline\n",
            "Shape of X_new: (178, 5)\n",
            "\n",
            "Selected feature names using mutual_info_score:\n",
            "0 alcohol\n",
            "1 flavanoids\n",
            "2 color_intensity\n",
            "3 od280/od315_of_diluted_wines\n",
            "4 proline\n",
            "Shape of X_new: (178, 5)\n",
            "\n",
            "Selected feature names using f_value_score:\n",
            "0 alcohol\n",
            "1 flavanoids\n",
            "2 color_intensity\n",
            "3 od280/od315_of_diluted_wines\n",
            "4 proline\n",
            "Shape of X_new: (178, 5)\n",
            "\n",
            "Selected feature names using gini_index_score:\n",
            "0 ash\n",
            "1 alcalinity_of_ash\n",
            "2 magnesium\n",
            "3 nonflavanoid_phenols\n",
            "4 proanthocyanins\n",
            "Shape of X_new: (178, 5)\n",
            "\n",
            "Selected feature names using chi2_score:\n",
            "0 alcalinity_of_ash\n",
            "1 magnesium\n",
            "2 flavanoids\n",
            "3 color_intensity\n",
            "4 proline\n",
            "Shape of X_new: (178, 5)\n"
          ]
        }
      ]
    },
    {
      "cell_type": "code",
      "execution_count": null,
      "metadata": {
        "colab": {
          "base_uri": "https://localhost:8080/"
        },
        "id": "ye2P-_nyOj32",
        "outputId": "171359ae-a31e-476e-fac2-b095adbb2602"
      },
      "outputs": [
        {
          "output_type": "stream",
          "name": "stdout",
          "text": [
            "Selected feature names:\n",
            "0 Alcohol\n",
            "1 Flavanoids\n",
            "2 Color.int\n",
            "3 OD\n",
            "4 Proline\n",
            "\n",
            "\n",
            "Shape of the dataframe: (178, 14)\n",
            "Shape of X_new: (178, 5)\n"
          ]
        }
      ],
      "source": [
        "import pandas as pd\n",
        "from sklearn.feature_selection import SelectKBest, f_classif\n",
        "\n",
        "# Load the Wine dataset\n",
        "wine_df = pd.read_csv(wine_url)\n",
        "\n",
        "# Separate the features (X) and the target variable (y)\n",
        "X = wine_df.drop('Wine', axis=1)\n",
        "y = wine_df['Wine']\n",
        "\n",
        "# Perform feature selection\n",
        "selector = SelectKBest(score_func=f_classif, k=5)\n",
        "X_new = selector.fit_transform(X, y)\n",
        "\n",
        "# Get the indices of the selected features\n",
        "feature_indices = selector.get_support(indices=True)\n",
        "\n",
        "# Get the names of the selected features\n",
        "feature_names = X.columns[feature_indices]\n",
        "\n",
        "# Print the selected feature names\n",
        "print(\"Selected feature names:\")\n",
        "for index, name in enumerate(feature_names):\n",
        "    print(index, name)\n",
        "\n",
        "# Print the shape of the transformed feature matrix\n",
        "print(\"\\n\")\n",
        "print(\"Shape of the dataframe:\", wine_df.shape)\n",
        "print(\"Shape of X_new:\", X_new.shape)"
      ]
    },
    {
      "cell_type": "markdown",
      "source": [
        "The `SelectKBest` function is then used for `feature selection` with the `f_classif` scoring function, which computes the `ANOVA` `F-value` between each feature and the target variable.\n",
        "\n",
        "In this example, we select the `top 5` features (`k=5`), but you can adjust this value according to your needs.\n",
        "\n",
        "The fit_transform method is called to perform the feature selection and transform the feature matrix. The resulting transformed feature matrix is stored in X_new, and its shape is printed."
      ],
      "metadata": {
        "id": "5sNWAV_MWfi7"
      }
    },
    {
      "cell_type": "markdown",
      "source": [
        "## **Recursive feature elimination**"
      ],
      "metadata": {
        "id": "Ub_r0jz3RQ-z"
      }
    },
    {
      "cell_type": "markdown",
      "source": [
        "### **RFE**"
      ],
      "metadata": {
        "id": "FWeaD_HUSc2U"
      }
    },
    {
      "cell_type": "code",
      "source": [
        "import pandas as pd\n",
        "from sklearn.feature_selection import RFE\n",
        "from sklearn.linear_model import LogisticRegression\n",
        "\n",
        "# Load the Wine dataset\n",
        "wine_df = pd.read_csv(wine_url)\n",
        "\n",
        "# Separate the features (X) and the target variable (y)\n",
        "X = wine_df.drop('Wine', axis=1)\n",
        "y = wine_df['Wine']\n",
        "\n",
        "# Create a base model for RFE\n",
        "base_model = LogisticRegression(solver='liblinear')\n",
        "\n",
        "# Perform Recursive Feature Elimination\n",
        "rfe_selector = RFE(estimator=base_model, n_features_to_select=5)\n",
        "X_new = rfe_selector.fit_transform(X, y)\n",
        "\n",
        "# Get the support of the selected features\n",
        "feature_support = rfe_selector.support_\n",
        "\n",
        "# Get the names of the selected features\n",
        "feature_names = X.columns[feature_support]\n",
        "\n",
        "# Print the selected feature names\n",
        "print(\"Selected feature names:\")\n",
        "for index, name in enumerate(feature_names):\n",
        "    print(index, name)\n",
        "\n",
        "# Print the shape of the transformed feature matrix\n",
        "print(\"\\n\")\n",
        "print(\"Shape of the dataframe:\", wine_df.shape)\n",
        "print(\"Shape of X_new:\", X_new.shape)"
      ],
      "metadata": {
        "colab": {
          "base_uri": "https://localhost:8080/"
        },
        "id": "c9F7_-8HQ66C",
        "outputId": "01be3f17-dec2-4f92-ce1c-1b3ded28e94f"
      },
      "execution_count": null,
      "outputs": [
        {
          "output_type": "stream",
          "name": "stdout",
          "text": [
            "Selected feature names:\n",
            "0 Ash\n",
            "1 Flavanoids\n",
            "2 Color.int\n",
            "3 Hue\n",
            "4 OD\n",
            "\n",
            "\n",
            "Shape of the dataframe: (178, 14)\n",
            "Shape of X_new: (178, 5)\n"
          ]
        }
      ]
    },
    {
      "cell_type": "markdown",
      "source": [
        "### **RFE with cross-validation**"
      ],
      "metadata": {
        "id": "2CAOaUuDRcwi"
      }
    },
    {
      "cell_type": "code",
      "source": [
        "import pandas as pd\n",
        "from sklearn.feature_selection import RFECV\n",
        "from sklearn.model_selection import StratifiedKFold\n",
        "from sklearn.linear_model import LogisticRegression\n",
        "\n",
        "# Load the Wine dataset\n",
        "wine_df = pd.read_csv(wine_url)\n",
        "\n",
        "# Separate the features (X) and the target variable (y)\n",
        "X = wine_df.drop('Wine', axis=1)\n",
        "y = wine_df['Wine']\n",
        "\n",
        "# Create a base model for RFE\n",
        "base_model = LogisticRegression(solver='liblinear')\n",
        "\n",
        "# Create a cross-validation strategy\n",
        "cv = StratifiedKFold(n_splits=5)\n",
        "\n",
        "# Perform Recursive Feature Elimination with Cross-Validation\n",
        "rfecv_selector = RFECV(estimator=base_model, cv=cv)\n",
        "X_new = rfecv_selector.fit_transform(X, y)\n",
        "\n",
        "# Get the support of the selected features\n",
        "feature_support = rfecv_selector.support_\n",
        "\n",
        "# Get the names of the selected features\n",
        "feature_names = X.columns[feature_support]\n",
        "\n",
        "# Print the selected feature names\n",
        "print(\"Selected feature names:\")\n",
        "for index, name in enumerate(feature_names):\n",
        "    print(index, name)\n",
        "\n",
        "# Print the shape of the transformed feature matrix\n",
        "print(\"\\n\")\n",
        "print(\"Shape of the dataframe:\", wine_df.shape)\n",
        "print(\"Shape of X_new:\", X_new.shape)"
      ],
      "metadata": {
        "colab": {
          "base_uri": "https://localhost:8080/"
        },
        "id": "yhug-lqEYnR2",
        "outputId": "4a83a53b-ef78-4885-f70f-5966da3170b0"
      },
      "execution_count": null,
      "outputs": [
        {
          "output_type": "stream",
          "name": "stdout",
          "text": [
            "Selected feature names:\n",
            "0 Alcohol\n",
            "1 Malic.acid\n",
            "2 Ash\n",
            "3 Acl\n",
            "4 Mg\n",
            "5 Phenols\n",
            "6 Flavanoids\n",
            "7 Nonflavanoid.phenols\n",
            "8 Proanth\n",
            "9 Color.int\n",
            "10 Hue\n",
            "11 OD\n",
            "12 Proline\n",
            "\n",
            "\n",
            "Shape of the dataframe: (178, 14)\n",
            "Shape of X_new: (178, 13)\n"
          ]
        }
      ]
    },
    {
      "cell_type": "code",
      "source": [
        "# Plot number of features VS. cross-validation scores\n",
        "import matplotlib.pyplot as plt\n",
        "\n",
        "# Plot number of features VS. cross-validation scores\n",
        "plt.figure()\n",
        "plt.xlabel(\"Number of features selected\")\n",
        "plt.ylabel(\"Mean test accuracy\")\n",
        "plt.errorbar(\n",
        "        range(1, len(rfecv_selector.cv_results_['mean_test_score']) + 1),\n",
        "        rfecv_selector.cv_results_['mean_test_score'],\n",
        "        yerr=rfecv_selector.cv_results_['std_test_score'],\n",
        "    )\n",
        "plt.title(\"Recursive Feature Elimination with Cross-Validation\")\n",
        "plt.show()"
      ],
      "metadata": {
        "colab": {
          "base_uri": "https://localhost:8080/",
          "height": 472
        },
        "id": "9OK3E7kgZybb",
        "outputId": "1e96c793-321d-420d-e100-c810aff94dcc"
      },
      "execution_count": null,
      "outputs": [
        {
          "output_type": "display_data",
          "data": {
            "text/plain": [
              "<Figure size 640x480 with 1 Axes>"
            ],
            "image/png": "[encoded data removed]"
          },
          "metadata": {}
        }
      ]
    },
    {
      "cell_type": "markdown",
      "source": [
        "**On sklearns Classification dataset**"
      ],
      "metadata": {
        "id": "LMSsjIHWZtRU"
      }
    },
    {
      "cell_type": "code",
      "source": [
        "# Data generation\n",
        "from sklearn.datasets import make_classification\n",
        "\n",
        "# Model training and selection\n",
        "from sklearn.feature_selection import RFECV\n",
        "from sklearn.model_selection import StratifiedKFold\n",
        "from sklearn.linear_model import LogisticRegression\n",
        "\n",
        "X, y = make_classification(\n",
        "    n_samples=500,\n",
        "    n_features=15,\n",
        "    n_informative=3,\n",
        "    n_redundant=2,\n",
        "    n_repeated=0,\n",
        "    n_classes=8,\n",
        "    n_clusters_per_class=1,\n",
        "    class_sep=0.8,\n",
        "    random_state=0,\n",
        ")\n",
        "\n",
        "\n",
        "min_features_to_select = 1  # Minimum number of features to consider\n",
        "clf = LogisticRegression()\n",
        "cv = StratifiedKFold(5)\n",
        "\n",
        "rfecv = RFECV(\n",
        "    estimator=clf,\n",
        "    step=1,\n",
        "    cv=cv,\n",
        "    scoring=\"accuracy\",\n",
        "    min_features_to_select=min_features_to_select,\n",
        "    n_jobs=2,\n",
        ")\n",
        "\n",
        "rfecv.fit(X, y)\n",
        "\n",
        "print(f\"Optimal number of features: {rfecv.n_features_}\")\n",
        "\n",
        "# Plot number of features VS. cross-validation scores\n",
        "import matplotlib.pyplot as plt\n",
        "\n",
        "n_scores = len(rfecv.cv_results_[\"mean_test_score\"])\n",
        "plt.figure()\n",
        "plt.xlabel(\"Number of features selected\")\n",
        "plt.ylabel(\"Mean test accuracy\")\n",
        "plt.errorbar(\n",
        "    range(min_features_to_select, n_scores + min_features_to_select),\n",
        "    rfecv.cv_results_[\"mean_test_score\"],\n",
        "    yerr=rfecv.cv_results_[\"std_test_score\"],\n",
        ")\n",
        "plt.title(\"Recursive Feature Elimination \\nwith correlated features\")\n",
        "plt.show()"
      ],
      "metadata": {
        "colab": {
          "base_uri": "https://localhost:8080/",
          "height": 510
        },
        "id": "yaLls7ktRobJ",
        "outputId": "6c5b8a99-11be-4d07-91c2-b6634586d7d7"
      },
      "execution_count": null,
      "outputs": [
        {
          "output_type": "stream",
          "name": "stdout",
          "text": [
            "Optimal number of features: 3\n"
          ]
        },
        {
          "output_type": "display_data",
          "data": {
            "text/plain": [
              "<Figure size 640x480 with 1 Axes>"
            ],
            "image/png": "[encoded data removed]"
          },
          "metadata": {}
        }
      ]
    },
    {
      "cell_type": "markdown",
      "source": [
        "From the plot above one can further notice a plateau of equivalent scores (similar mean value and overlapping errorbars) for 3 to 5 selected features.\n",
        "\n",
        "This is the result of introducing correlated features. Indeed, the optimal model selected by the `RFE` can lie within this range, depending on the cross-validation technique. The test accuracy decreases above 5 selected features, this is, keeping non-informative features leads to over-fitting and is therefore detrimental for the statistical performance of the models."
      ],
      "metadata": {
        "id": "MPZdAffoSICW"
      }
    },
    {
      "cell_type": "markdown",
      "source": [
        "## **Feature selection using SelectFromModel**"
      ],
      "metadata": {
        "id": "aAQtDdVNSn3s"
      }
    },
    {
      "cell_type": "code",
      "source": [
        "import pandas as pd\n",
        "from sklearn.feature_selection import SelectFromModel\n",
        "from sklearn.ensemble import RandomForestClassifier\n",
        "from sklearn.datasets import load_wine\n",
        "\n",
        "# Load the Wine dataset\n",
        "wine = load_wine()\n",
        "X = wine.data\n",
        "y = wine.target\n",
        "feature_names = wine.feature_names\n",
        "\n",
        "# Create a Random Forest Classifier\n",
        "clf = RandomForestClassifier()\n",
        "\n",
        "# Create an instance of SelectFromModel\n",
        "selector = SelectFromModel(estimator=clf)\n",
        "\n",
        "# Fit the selector to the data\n",
        "selector.fit(X, y)\n",
        "\n",
        "# Get the support of the selected features\n",
        "feature_support = selector.get_support()\n",
        "\n",
        "# Get the names of the selected features\n",
        "selected_features = [feature_names[i] for i, support in enumerate(feature_support) if support]\n",
        "\n",
        "# Print the selected feature names\n",
        "print(\"Selected feature names:\")\n",
        "for index, name in enumerate(selected_features):\n",
        "    print(index, name)\n",
        "\n",
        "# Transform the feature matrix to include only the selected features\n",
        "X_new = selector.transform(X)\n",
        "\n",
        "# Print the shape of the transformed feature matrix\n",
        "print(\"Shape of X_new:\", X_new.shape)"
      ],
      "metadata": {
        "colab": {
          "base_uri": "https://localhost:8080/"
        },
        "id": "doi10OhOSqtT",
        "outputId": "31665eb4-60ac-46dd-ad13-67f4f6173c8e"
      },
      "execution_count": null,
      "outputs": [
        {
          "output_type": "stream",
          "name": "stdout",
          "text": [
            "Selected feature names:\n",
            "0 alcohol\n",
            "1 flavanoids\n",
            "2 color_intensity\n",
            "3 hue\n",
            "4 od280/od315_of_diluted_wines\n",
            "5 proline\n",
            "Shape of X_new: (178, 6)\n"
          ]
        }
      ]
    },
    {
      "cell_type": "code",
      "source": [
        "import pandas as pd\n",
        "from sklearn.feature_selection import SelectKBest, f_regression, mutual_info_regression\n",
        "from sklearn.metrics import r2_score\n",
        "from sklearn.linear_model import LinearRegression\n",
        "\n",
        "# Load the Wine dataset\n",
        "wine = load_wine()\n",
        "X = wine.data\n",
        "y = wine.target\n",
        "feature_names = wine.feature_names\n",
        "\n",
        "# Assuming X, y, and feature_names are defined\n",
        "# Assuming estimator is defined, if not, define it. Here, we use LinearRegression as an example\n",
        "estimator = LinearRegression()\n",
        "\n",
        "# Create an instance of SelectKBest with mutual_info_regression scoring\n",
        "selector_mutual_info_regression = SelectKBest(score_func=mutual_info_regression, k=5)\n",
        "X_new_mutual_info_regression = selector_mutual_info_regression.fit_transform(X, y)\n",
        "selected_features_mutual_info_regression = [feature_names[i] for i in selector_mutual_info_regression.get_support(indices=True)]\n",
        "\n",
        "# Define custom scoring function\n",
        "def r2_scores(X, y):\n",
        "    scores = []\n",
        "    for column in X.T:\n",
        "        X_column = column.reshape(-1, 1)\n",
        "        score = r2_score(y, estimator.fit(X_column, y).predict(X_column))\n",
        "        scores.append(score)\n",
        "    return np.array(scores)\n",
        "\n",
        "# Create an instance of SelectKBest with r2_scores scoring\n",
        "selector_r2_scores = SelectKBest(score_func=r2_scores, k=5)\n",
        "X_new_r2_scores = selector_r2_scores.fit_transform(X, y)\n",
        "selected_features_r2_scores = [feature_names[i] for i in selector_r2_scores.get_support(indices=True)]\n",
        "\n",
        "# Print the selected feature names for each scoring function\n",
        "print(\"\\nSelected feature names using mutual_info_regression:\")\n",
        "for index, name in enumerate(selected_features_mutual_info_regression):\n",
        "    print(index, name)\n",
        "\n",
        "print(\"\\nSelected feature names using r2_scores:\")\n",
        "for index, name in enumerate(selected_features_r2_scores):\n",
        "    print(index, name)\n",
        "\n",
        "# Print the shape of the transformed feature matrices\n",
        "print(\"\\nShape of X_new (mutual_info_regression):\", X_new_mutual_info_regression.shape)\n",
        "print(\"Shape of X_new (r2_scores):\", X_new_r2_scores.shape)\n"
      ],
      "metadata": {
        "colab": {
          "base_uri": "https://localhost:8080/"
        },
        "id": "ypiYwDfcq-RM",
        "outputId": "958135b4-9376-4923-c1f4-def1b526a5fd"
      },
      "execution_count": null,
      "outputs": [
        {
          "output_type": "stream",
          "name": "stdout",
          "text": [
            "\n",
            "Selected feature names using mutual_info_regression:\n",
            "0 alcohol\n",
            "1 flavanoids\n",
            "2 color_intensity\n",
            "3 od280/od315_of_diluted_wines\n",
            "4 proline\n",
            "\n",
            "Selected feature names using r2_scores:\n",
            "0 total_phenols\n",
            "1 flavanoids\n",
            "2 hue\n",
            "3 od280/od315_of_diluted_wines\n",
            "4 proline\n",
            "\n",
            "Shape of X_new (mutual_info_regression): (178, 5)\n",
            "Shape of X_new (r2_scores): (178, 5)\n"
          ]
        }
      ]
    }
  ]
}