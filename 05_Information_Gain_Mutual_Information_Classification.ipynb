{
  "cells": [
    {
      "cell_type": "markdown",
      "metadata": {
        "id": "JclSWYwRpfNl"
      },
      "source": [
        "# **Feature Selection-Information gain - mutual information In Classification**"
      ]
    },
    {
      "cell_type": "code",
      "source": [
        "import pandas as pd\n",
        "import numpy as np\n",
        "import matplotlib.pyplot as plt\n",
        "import seaborn as sns\n",
        "import os\n",
        "\n",
        "# plt.style.use('ggplot')\n",
        "# sns.set_theme(style='whitegrid')\n",
        "%matplotlib inline"
      ],
      "metadata": {
        "id": "R_DglhQmPxgS"
      },
      "execution_count": 4,
      "outputs": []
    },
    {
      "cell_type": "markdown",
      "metadata": {
        "id": "NCy-9Ll-pfNp"
      },
      "source": [
        "### **Mutual Information**\n",
        "\n",
        "MI Estimate mutual information for a discrete target variable.\n",
        "\n",
        "**Mutual information** (MI) between two random variables is a **non-negative** value, which measures the dependency between the variables. It is equal to zero if and only if two random variables are independent, and higher values mean higher dependency.\n",
        "\n",
        "The function relies on nonparametric methods based on entropy estimation from `k-nearest` neighbors distances.\n",
        "\n",
        "**Inshort**\n",
        "\n",
        ">A quantity called mutual information measures the amount of information one can obtain from one random variable given another.\n",
        "\n",
        "The mutual information between two random variables `X` and `Y` can be stated formally as follows:\n",
        "\n",
        "$$I(X ; Y) = H(X) - H(X | Y)$$\n",
        "\n",
        "\n",
        "Where $I(X ; Y)$ is the mutual information for $X$ and $Y$, $H(X)$ is the entropy for $X$ and $H(X | Y)$ is the conditional entropy for $X$ given $Y$. The result has the units of bits."
      ]
    },
    {
      "cell_type": "markdown",
      "source": [
        "**Mutual Information** is another metric used in feature selection to measure **the amount of information shared between a feature and the target variable in a dataset**.\n",
        "\n",
        "In feature selection, **we aim to select features that have a high mutual information score**, as they provide significant information for classifying instances.\n",
        "\n",
        "Calculate the mutual information between each feature and the target variable in the dataset.\n",
        "\n",
        "The mutual information measures the amount of shared information or dependency between the feature and the target variable. Higher mutual information indicates a stronger relationship between the feature and the target.\n",
        "\n",
        "\n"
      ],
      "metadata": {
        "id": "Wkq-ipJ-NFcz"
      }
    },
    {
      "cell_type": "markdown",
      "source": [
        "### **Information Gain**"
      ],
      "metadata": {
        "id": "Il4F_B0F_-Q3"
      }
    },
    {
      "cell_type": "markdown",
      "source": [
        "**Information gain** is a metric used in feature selection to measure the amount of useful information a feature provides for classifying instances in a dataset. It quantifies the reduction in entropy achieved by splitting the data based on a particular feature.\n",
        "\n",
        "In feature selection, we aim to select features that maximize information gain, as they contribute the most to improving the classification accuracy. Features with higher information gain have a stronger ability to discriminate between different classes or categories.\n",
        "\n",
        "Here's an explanation of information gain with respect to feature selection, along with a code example in Python:\n",
        "\n",
        "- Calculate the entropy of the target variable (class labels) before splitting the data.\n",
        "\n",
        "- For each feature, calculate the entropy of the target variable after splitting the data based on that feature.\n",
        "\n",
        "- Calculate the information gain by subtracting the weighted average of the entropies after splitting from the entropy before splitting.\n",
        "\n",
        "- Select the feature with the highest information gain as the most informative one.\n",
        "\n",
        "Here's an example code snippet that demonstrates the calculation of information gain for feature selection using the scikit-learn library:"
      ],
      "metadata": {
        "id": "z5quXPLwABfA"
      }
    },
    {
      "cell_type": "code",
      "source": [
        "from sklearn.feature_selection import mutual_info_classif\n",
        "from sklearn.datasets import load_iris\n",
        "\n",
        "# Load the Iris dataset as an example\n",
        "data = load_iris()\n",
        "X = data.data    # Features\n",
        "y = data.target  # Target variable\n",
        "\n",
        "# Calculate the information gain using mutual information\n",
        "info_gain = mutual_info_classif(X, y)\n",
        "\n",
        "# Create a dictionary with feature names and their corresponding information gains\n",
        "feature_info_gain = {}\n",
        "for i, feature_name in enumerate(data.feature_names):\n",
        "    feature_info_gain[feature_name] = info_gain[i]\n",
        "\n",
        "# Sort the features based on their information gains in descending order\n",
        "sorted_features = sorted(feature_info_gain.items(), key=lambda x: x[1], reverse=True)\n",
        "\n",
        "# Print the features along with their information gains\n",
        "for feature, gain in sorted_features:\n",
        "    print(f\"{feature}: {gain}\")"
      ],
      "metadata": {
        "colab": {
          "base_uri": "https://localhost:8080/"
        },
        "id": "_2Tn2rHHAPJn",
        "outputId": "ed9e5cc8-2970-4025-bc95-ee63b02908ff"
      },
      "execution_count": 5,
      "outputs": [
        {
          "output_type": "stream",
          "name": "stdout",
          "text": [
            "petal length (cm): 0.992514020273614\n",
            "petal width (cm): 0.9812752768915809\n",
            "sepal length (cm): 0.5005835268330199\n",
            "sepal width (cm): 0.25100885362047176\n"
          ]
        }
      ]
    },
    {
      "cell_type": "markdown",
      "source": [
        "### **Entropy**\n",
        "\n",
        "\n"
      ],
      "metadata": {
        "id": "SCeUFQMO0Vnf"
      }
    },
    {
      "cell_type": "markdown",
      "source": [
        "Entropy is a measure of impurity or disorder in a set of data. In the context of feature selection, entropy is used to quantify the amount of information provided by a feature in distinguishing different classes or categories within the dataset.\n",
        "\n",
        "When performing feature selection, we want to identify features that have the highest discriminatory power. In other words, we aim to select features that provide the most information in differentiating between different classes or categories.\n",
        "\n",
        "The entropy of a feature can be calculated using the formula:\n",
        "$$Entropy = -∑(p * log_{2}(p))$$\n",
        "\n",
        "\n",
        "\n",
        "Here's an example of calculating the entropy for a feature in Python:\n"
      ],
      "metadata": {
        "id": "872dIqPT0cZf"
      }
    },
    {
      "cell_type": "markdown",
      "source": [
        "[`np.unique`](https://numpy.org/doc/stable/reference/generated/numpy.unique.html)"
      ],
      "metadata": {
        "id": "C_ecR8kTNSJZ"
      }
    },
    {
      "cell_type": "code",
      "source": [
        "a = np.array(['a', 'b', 'b', 'c', 'a'])\n",
        "\n",
        "_, indices = np.unique(a, return_index=True)\n",
        "print(_, indices)"
      ],
      "metadata": {
        "colab": {
          "base_uri": "https://localhost:8080/"
        },
        "id": "pJ8RfDq0NANK",
        "outputId": "33769c1f-1d52-4246-ef10-d0ba9fbd57c5"
      },
      "execution_count": 6,
      "outputs": [
        {
          "output_type": "stream",
          "name": "stdout",
          "text": [
            "['a' 'b' 'c'] [0 1 3]\n"
          ]
        }
      ]
    },
    {
      "cell_type": "code",
      "source": [
        "b = np.array([1, 2, 6, 4, 2, 3, 2])\n",
        "\n",
        "_, indices = np.unique(b, return_index=True)\n",
        "print(_, indices)"
      ],
      "metadata": {
        "colab": {
          "base_uri": "https://localhost:8080/"
        },
        "id": "sqvRWhubOA7S",
        "outputId": "9bd52357-1879-4c5b-bd4a-a82c7bfd2934"
      },
      "execution_count": 7,
      "outputs": [
        {
          "output_type": "stream",
          "name": "stdout",
          "text": [
            "[1 2 3 4 6] [0 1 5 3 2]\n"
          ]
        }
      ]
    },
    {
      "cell_type": "code",
      "source": [
        "import numpy as np\n",
        "\n",
        "def calculate_entropy(feature):\n",
        "    _, counts = np.unique(feature, return_counts=True)\n",
        "    print(_, counts)\n",
        "    total_count = np.sum(counts)\n",
        "    print(total_count)\n",
        "    probabilities = counts / total_count\n",
        "    print(probabilities)\n",
        "    entropy = - np.sum(probabilities * np.log10(probabilities))\n",
        "    return entropy\n",
        "\n",
        "# Example feature data\n",
        "# feature_data = [0, 0, 1, 1, 0, 1, 1, 0, 1, 1]\n",
        "# feature_data = [1, 0, 0, 0, 0, 0, 0, 0, 0, 0]  # Modified to have mostly one unique value\n",
        "feature_data = [0, 1, 2, 3, 4, 5, 6, 7, 8, 9, 0, 1, 2, 3, 4, 5, 6, 7, 8, 9]  # Repeated pattern\n",
        "\n",
        "# Calculate entropy\n",
        "entropy = calculate_entropy(feature_data)\n",
        "\n",
        "print(\"Entropy:\", entropy)"
      ],
      "metadata": {
        "colab": {
          "base_uri": "https://localhost:8080/"
        },
        "id": "f8RVUWSi93sE",
        "outputId": "ae89b84d-071e-4c92-db34-b9db1002c578"
      },
      "execution_count": 8,
      "outputs": [
        {
          "output_type": "stream",
          "name": "stdout",
          "text": [
            "[0 1 2 3 4 5 6 7 8 9] [2 2 2 2 2 2 2 2 2 2]\n",
            "20\n",
            "[0.1 0.1 0.1 0.1 0.1 0.1 0.1 0.1 0.1 0.1]\n",
            "Entropy: 1.0\n"
          ]
        }
      ]
    },
    {
      "cell_type": "markdown",
      "source": [
        "Entropy measures the amount of disorder or randomness within a feature. A feature with entropy close to `0` indicates high purity and strong discriminatory power, **meaning it provides valuable information for classification**.\n",
        "\n",
        " On the other hand, an entropy value close to `1` suggests low purity and weak discriminatory power, indicating the **feature doesn't contribute much useful information for classification**.\n",
        "\n",
        " The goal of feature selection is to choose features with low entropy (`close to 0`) as they are more informative and helpful for classification tasks."
      ],
      "metadata": {
        "id": "13HBs06T-L93"
      }
    },
    {
      "cell_type": "markdown",
      "source": [
        "### **Gini Impurity**"
      ],
      "metadata": {
        "id": "HMVRCX92KPH3"
      }
    },
    {
      "cell_type": "markdown",
      "source": [
        "Gini impurity is another metric used in feature selection to measure the impurity or disorder within a feature. It quantifies the probability of misclassifying a randomly chosen element in a dataset.\n",
        "\n",
        "In feature selection, we aim to select features that minimize Gini impurity, as they provide better discriminatory power for classification tasks.\n",
        "\n",
        "Here's an explanation of Gini impurity with respect to feature selection, along with a code example in Python:\n",
        "\n",
        "- Calculate the Gini impurity of the target variable (class labels) before splitting the data.\n",
        "\n",
        "- For each feature, calculate the Gini impurity of the target variable after splitting the data based on that feature.\n",
        "\n",
        "- Calculate the Gini impurity reduction by subtracting the weighted average of the Gini impurities after splitting from the Gini impurity before splitting.\n",
        "\n",
        "- Select the feature with the highest Gini impurity reduction as the most informative one.\n",
        "\n",
        "Here's an example code snippet that demonstrates the calculation of Gini impurity for feature selection using the scikit-learn library:"
      ],
      "metadata": {
        "id": "rtUGAzwhKVkP"
      }
    },
    {
      "cell_type": "code",
      "source": [
        "from sklearn.feature_selection import f_classif\n",
        "from sklearn.datasets import load_iris\n",
        "\n",
        "# Load the Iris dataset as an example\n",
        "data = load_iris()\n",
        "X = data.data  # Features\n",
        "y = data.target  # Target variable\n",
        "\n",
        "# Calculate the Gini impurity using the f_classif function\n",
        "gini_impurity = 1 - f_classif(X, y)[1]  # Gini impurity is calculated as (1 - p-value)\n",
        "\n",
        "# Create a dictionary with feature names and their corresponding Gini impurities\n",
        "feature_gini_impurity = {}\n",
        "for i, feature_name in enumerate(data.feature_names):\n",
        "    feature_gini_impurity[feature_name] = gini_impurity[i]\n",
        "\n",
        "# Sort the features based on their Gini impurities in descending order\n",
        "sorted_features = sorted(feature_gini_impurity.items(), key=lambda x: x[1], reverse=True)\n",
        "\n",
        "# Print the features along with their Gini impurities\n",
        "for feature, impurity in sorted_features:\n",
        "    print(f\"{feature}: {impurity}\")"
      ],
      "metadata": {
        "colab": {
          "base_uri": "https://localhost:8080/"
        },
        "id": "jnDXeInhKVKs",
        "outputId": "edca2c84-b48e-47f6-f0a8-c048ed4953cf"
      },
      "execution_count": 9,
      "outputs": [
        {
          "output_type": "stream",
          "name": "stdout",
          "text": [
            "sepal length (cm): 1.0\n",
            "sepal width (cm): 1.0\n",
            "petal length (cm): 1.0\n",
            "petal width (cm): 1.0\n"
          ]
        }
      ]
    },
    {
      "cell_type": "markdown",
      "source": [
        "`f_classif` function from scikit-learn to calculate the `Gini impurity` for each feature in the Iris dataset. We subtract the p-value (obtained from the `f_classif` test) from 1 to obtain the Gini impurity."
      ],
      "metadata": {
        "id": "43vYBEvKMz9O"
      }
    },
    {
      "cell_type": "markdown",
      "source": [
        "# **Feature Selection on Wine Dataset**"
      ],
      "metadata": {
        "id": "C74VQYAlK4bJ"
      }
    },
    {
      "cell_type": "code",
      "execution_count": 10,
      "metadata": {
        "id": "Mc-WyzuKpfNs"
      },
      "outputs": [],
      "source": [
        "import pandas as pd\n",
        "import numpy as np\n",
        "import matplotlib.pyplot as plt\n",
        "import seaborn as sns\n",
        "import os\n",
        "\n",
        "# plt.style.use('ggplot')\n",
        "# sns.set_theme(style='whitegrid')\n",
        "%matplotlib inline"
      ]
    },
    {
      "cell_type": "code",
      "execution_count": 11,
      "metadata": {
        "colab": {
          "base_uri": "https://localhost:8080/",
          "height": 206
        },
        "id": "PSbkILN4pfNt",
        "outputId": "e5b2e3f3-1fdd-4444-c865-8f8fb48d07c1"
      },
      "outputs": [
        {
          "output_type": "execute_result",
          "data": {
            "text/plain": [
              "   Wine  Alcohol  Malic.acid   Ash   Acl   Mg  Phenols  Flavanoids  \\\n",
              "0     1    14.23        1.71  2.43  15.6  127     2.80        3.06   \n",
              "1     1    13.20        1.78  2.14  11.2  100     2.65        2.76   \n",
              "2     1    13.16        2.36  2.67  18.6  101     2.80        3.24   \n",
              "3     1    14.37        1.95  2.50  16.8  113     3.85        3.49   \n",
              "4     1    13.24        2.59  2.87  21.0  118     2.80        2.69   \n",
              "\n",
              "   Nonflavanoid.phenols  Proanth  Color.int   Hue    OD  Proline  \n",
              "0                  0.28     2.29       5.64  1.04  3.92     1065  \n",
              "1                  0.26     1.28       4.38  1.05  3.40     1050  \n",
              "2                  0.30     2.81       5.68  1.03  3.17     1185  \n",
              "3                  0.24     2.18       7.80  0.86  3.45     1480  \n",
              "4                  0.39     1.82       4.32  1.04  2.93      735  "
            ],
            "text/html": [
              "\n",
              "  <div id=\"df-25c365ba-001b-41de-878a-52d2a03d532a\">\n",
              "    <div class=\"colab-df-container\">\n",
              "      <div>\n",
              "<style scoped>\n",
              "    .dataframe tbody tr th:only-of-type {\n",
              "        vertical-align: middle;\n",
              "    }\n",
              "\n",
              "    .dataframe tbody tr th {\n",
              "        vertical-align: top;\n",
              "    }\n",
              "\n",
              "    .dataframe thead th {\n",
              "        text-align: right;\n",
              "    }\n",
              "</style>\n",
              "<table border=\"1\" class=\"dataframe\">\n",
              "  <thead>\n",
              "    <tr style=\"text-align: right;\">\n",
              "      <th></th>\n",
              "      <th>Wine</th>\n",
              "      <th>Alcohol</th>\n",
              "      <th>Malic.acid</th>\n",
              "      <th>Ash</th>\n",
              "      <th>Acl</th>\n",
              "      <th>Mg</th>\n",
              "      <th>Phenols</th>\n",
              "      <th>Flavanoids</th>\n",
              "      <th>Nonflavanoid.phenols</th>\n",
              "      <th>Proanth</th>\n",
              "      <th>Color.int</th>\n",
              "      <th>Hue</th>\n",
              "      <th>OD</th>\n",
              "      <th>Proline</th>\n",
              "    </tr>\n",
              "  </thead>\n",
              "  <tbody>\n",
              "    <tr>\n",
              "      <th>0</th>\n",
              "      <td>1</td>\n",
              "      <td>14.23</td>\n",
              "      <td>1.71</td>\n",
              "      <td>2.43</td>\n",
              "      <td>15.6</td>\n",
              "      <td>127</td>\n",
              "      <td>2.80</td>\n",
              "      <td>3.06</td>\n",
              "      <td>0.28</td>\n",
              "      <td>2.29</td>\n",
              "      <td>5.64</td>\n",
              "      <td>1.04</td>\n",
              "      <td>3.92</td>\n",
              "      <td>1065</td>\n",
              "    </tr>\n",
              "    <tr>\n",
              "      <th>1</th>\n",
              "      <td>1</td>\n",
              "      <td>13.20</td>\n",
              "      <td>1.78</td>\n",
              "      <td>2.14</td>\n",
              "      <td>11.2</td>\n",
              "      <td>100</td>\n",
              "      <td>2.65</td>\n",
              "      <td>2.76</td>\n",
              "      <td>0.26</td>\n",
              "      <td>1.28</td>\n",
              "      <td>4.38</td>\n",
              "      <td>1.05</td>\n",
              "      <td>3.40</td>\n",
              "      <td>1050</td>\n",
              "    </tr>\n",
              "    <tr>\n",
              "      <th>2</th>\n",
              "      <td>1</td>\n",
              "      <td>13.16</td>\n",
              "      <td>2.36</td>\n",
              "      <td>2.67</td>\n",
              "      <td>18.6</td>\n",
              "      <td>101</td>\n",
              "      <td>2.80</td>\n",
              "      <td>3.24</td>\n",
              "      <td>0.30</td>\n",
              "      <td>2.81</td>\n",
              "      <td>5.68</td>\n",
              "      <td>1.03</td>\n",
              "      <td>3.17</td>\n",
              "      <td>1185</td>\n",
              "    </tr>\n",
              "    <tr>\n",
              "      <th>3</th>\n",
              "      <td>1</td>\n",
              "      <td>14.37</td>\n",
              "      <td>1.95</td>\n",
              "      <td>2.50</td>\n",
              "      <td>16.8</td>\n",
              "      <td>113</td>\n",
              "      <td>3.85</td>\n",
              "      <td>3.49</td>\n",
              "      <td>0.24</td>\n",
              "      <td>2.18</td>\n",
              "      <td>7.80</td>\n",
              "      <td>0.86</td>\n",
              "      <td>3.45</td>\n",
              "      <td>1480</td>\n",
              "    </tr>\n",
              "    <tr>\n",
              "      <th>4</th>\n",
              "      <td>1</td>\n",
              "      <td>13.24</td>\n",
              "      <td>2.59</td>\n",
              "      <td>2.87</td>\n",
              "      <td>21.0</td>\n",
              "      <td>118</td>\n",
              "      <td>2.80</td>\n",
              "      <td>2.69</td>\n",
              "      <td>0.39</td>\n",
              "      <td>1.82</td>\n",
              "      <td>4.32</td>\n",
              "      <td>1.04</td>\n",
              "      <td>2.93</td>\n",
              "      <td>735</td>\n",
              "    </tr>\n",
              "  </tbody>\n",
              "</table>\n",
              "</div>\n",
              "      <button class=\"colab-df-convert\" onclick=\"convertToInteractive('df-25c365ba-001b-41de-878a-52d2a03d532a')\"\n",
              "              title=\"Convert this dataframe to an interactive table.\"\n",
              "              style=\"display:none;\">\n",
              "        \n",
              "  <svg xmlns=\"http://www.w3.org/2000/svg\" height=\"24px\"viewBox=\"0 0 24 24\"\n",
              "       width=\"24px\">\n",
              "    <path d=\"M0 0h24v24H0V0z\" fill=\"none\"/>\n",
              "    <path d=\"M18.56 5.44l.94 2.06.94-2.06 2.06-.94-2.06-.94-.94-2.06-.94 2.06-2.06.94zm-11 1L8.5 8.5l.94-2.06 2.06-.94-2.06-.94L8.5 2.5l-.94 2.06-2.06.94zm10 10l.94 2.06.94-2.06 2.06-.94-2.06-.94-.94-2.06-.94 2.06-2.06.94z\"/><path d=\"M17.41 7.96l-1.37-1.37c-.4-.4-.92-.59-1.43-.59-.52 0-1.04.2-1.43.59L10.3 9.45l-7.72 7.72c-.78.78-.78 2.05 0 2.83L4 21.41c.39.39.9.59 1.41.59.51 0 1.02-.2 1.41-.59l7.78-7.78 2.81-2.81c.8-.78.8-2.07 0-2.86zM5.41 20L4 18.59l7.72-7.72 1.47 1.35L5.41 20z\"/>\n",
              "  </svg>\n",
              "      </button>\n",
              "      \n",
              "  <style>\n",
              "    .colab-df-container {\n",
              "      display:flex;\n",
              "      flex-wrap:wrap;\n",
              "      gap: 12px;\n",
              "    }\n",
              "\n",
              "    .colab-df-convert {\n",
              "      background-color: #E8F0FE;\n",
              "      border: none;\n",
              "      border-radius: 50%;\n",
              "      cursor: pointer;\n",
              "      display: none;\n",
              "      fill: #1967D2;\n",
              "      height: 32px;\n",
              "      padding: 0 0 0 0;\n",
              "      width: 32px;\n",
              "    }\n",
              "\n",
              "    .colab-df-convert:hover {\n",
              "      background-color: #E2EBFA;\n",
              "      box-shadow: 0px 1px 2px rgba(60, 64, 67, 0.3), 0px 1px 3px 1px rgba(60, 64, 67, 0.15);\n",
              "      fill: #174EA6;\n",
              "    }\n",
              "\n",
              "    [theme=dark] .colab-df-convert {\n",
              "      background-color: #3B4455;\n",
              "      fill: #D2E3FC;\n",
              "    }\n",
              "\n",
              "    [theme=dark] .colab-df-convert:hover {\n",
              "      background-color: #434B5C;\n",
              "      box-shadow: 0px 1px 3px 1px rgba(0, 0, 0, 0.15);\n",
              "      filter: drop-shadow(0px 1px 2px rgba(0, 0, 0, 0.3));\n",
              "      fill: #FFFFFF;\n",
              "    }\n",
              "  </style>\n",
              "\n",
              "      <script>\n",
              "        const buttonEl =\n",
              "          document.querySelector('#df-25c365ba-001b-41de-878a-52d2a03d532a button.colab-df-convert');\n",
              "        buttonEl.style.display =\n",
              "          google.colab.kernel.accessAllowed ? 'block' : 'none';\n",
              "\n",
              "        async function convertToInteractive(key) {\n",
              "          const element = document.querySelector('#df-25c365ba-001b-41de-878a-52d2a03d532a');\n",
              "          const dataTable =\n",
              "            await google.colab.kernel.invokeFunction('convertToInteractive',\n",
              "                                                     [key], {});\n",
              "          if (!dataTable) return;\n",
              "\n",
              "          const docLinkHtml = 'Like what you see? Visit the ' +\n",
              "            '<a target=\"_blank\" href=https://colab.research.google.com/notebooks/data_table.ipynb>data table notebook</a>'\n",
              "            + ' to learn more about interactive tables.';\n",
              "          element.innerHTML = '';\n",
              "          dataTable['output_type'] = 'display_data';\n",
              "          await google.colab.output.renderOutput(dataTable, element);\n",
              "          const docLink = document.createElement('div');\n",
              "          docLink.innerHTML = docLinkHtml;\n",
              "          element.appendChild(docLink);\n",
              "        }\n",
              "      </script>\n",
              "    </div>\n",
              "  </div>\n",
              "  "
            ]
          },
          "metadata": {},
          "execution_count": 11
        }
      ],
      "source": [
        "wine_url = \"https://gist.githubusercontent.com/tijptjik/9408623/raw/b237fa5848349a14a14e5d4107dc7897c21951f5/wine.csv\"\n",
        "\n",
        "df = pd.read_csv(wine_url)\n",
        "df.head()"
      ]
    },
    {
      "cell_type": "code",
      "execution_count": 12,
      "metadata": {
        "colab": {
          "base_uri": "https://localhost:8080/"
        },
        "id": "XghVL6P6pfNu",
        "outputId": "e4217518-289e-4bb4-9271-bc79b77736c1"
      },
      "outputs": [
        {
          "output_type": "execute_result",
          "data": {
            "text/plain": [
              "array([1, 2, 3])"
            ]
          },
          "metadata": {},
          "execution_count": 12
        }
      ],
      "source": [
        "df['Wine'].unique()"
      ]
    },
    {
      "cell_type": "code",
      "execution_count": 13,
      "metadata": {
        "colab": {
          "base_uri": "https://localhost:8080/"
        },
        "id": "Vi6uFNwcpfNv",
        "outputId": "d964f4d0-5ce5-488f-f10f-b100ddbe7909"
      },
      "outputs": [
        {
          "output_type": "stream",
          "name": "stdout",
          "text": [
            "<class 'pandas.core.frame.DataFrame'>\n",
            "RangeIndex: 178 entries, 0 to 177\n",
            "Data columns (total 14 columns):\n",
            " #   Column                Non-Null Count  Dtype  \n",
            "---  ------                --------------  -----  \n",
            " 0   Wine                  178 non-null    int64  \n",
            " 1   Alcohol               178 non-null    float64\n",
            " 2   Malic.acid            178 non-null    float64\n",
            " 3   Ash                   178 non-null    float64\n",
            " 4   Acl                   178 non-null    float64\n",
            " 5   Mg                    178 non-null    int64  \n",
            " 6   Phenols               178 non-null    float64\n",
            " 7   Flavanoids            178 non-null    float64\n",
            " 8   Nonflavanoid.phenols  178 non-null    float64\n",
            " 9   Proanth               178 non-null    float64\n",
            " 10  Color.int             178 non-null    float64\n",
            " 11  Hue                   178 non-null    float64\n",
            " 12  OD                    178 non-null    float64\n",
            " 13  Proline               178 non-null    int64  \n",
            "dtypes: float64(11), int64(3)\n",
            "memory usage: 19.6 KB\n"
          ]
        }
      ],
      "source": [
        "df.info()"
      ]
    },
    {
      "cell_type": "code",
      "execution_count": 14,
      "metadata": {
        "id": "IWcijJJXpfNw"
      },
      "outputs": [],
      "source": [
        "# dependent and independent varible\n",
        "X = df.drop(labels=['Wine'], axis=1)\n",
        "y = df['Wine']\n",
        "\n",
        "# Train test split to avoid overfitting\n",
        "from sklearn.model_selection import train_test_split\n",
        "X_train,X_test,y_train,y_test=train_test_split(X, y, test_size=0.3, random_state=0)"
      ]
    },
    {
      "cell_type": "code",
      "execution_count": 15,
      "metadata": {
        "colab": {
          "base_uri": "https://localhost:8080/",
          "height": 206
        },
        "id": "W3tx7__kpfNw",
        "outputId": "7d59b1c2-83c7-4841-f943-b0cde5492ac9"
      },
      "outputs": [
        {
          "output_type": "execute_result",
          "data": {
            "text/plain": [
              "     Alcohol  Malic.acid   Ash   Acl   Mg  Phenols  Flavanoids  \\\n",
              "22     13.71        1.86  2.36  16.6  101     2.61        2.88   \n",
              "108    12.22        1.29  1.94  19.0   92     2.36        2.04   \n",
              "175    13.27        4.28  2.26  20.0  120     1.59        0.69   \n",
              "145    13.16        3.57  2.15  21.0  102     1.50        0.55   \n",
              "71     13.86        1.51  2.67  25.0   86     2.95        2.86   \n",
              "\n",
              "     Nonflavanoid.phenols  Proanth  Color.int   Hue    OD  Proline  \n",
              "22                   0.27     1.69       3.80  1.11  4.00     1035  \n",
              "108                  0.39     2.08       2.70  0.86  3.02      312  \n",
              "175                  0.43     1.35      10.20  0.59  1.56      835  \n",
              "145                  0.43     1.30       4.00  0.60  1.68      830  \n",
              "71                   0.21     1.87       3.38  1.36  3.16      410  "
            ],
            "text/html": [
              "\n",
              "  <div id=\"df-e42ba025-9b0d-4068-b6f2-356b5eb5e36d\">\n",
              "    <div class=\"colab-df-container\">\n",
              "      <div>\n",
              "<style scoped>\n",
              "    .dataframe tbody tr th:only-of-type {\n",
              "        vertical-align: middle;\n",
              "    }\n",
              "\n",
              "    .dataframe tbody tr th {\n",
              "        vertical-align: top;\n",
              "    }\n",
              "\n",
              "    .dataframe thead th {\n",
              "        text-align: right;\n",
              "    }\n",
              "</style>\n",
              "<table border=\"1\" class=\"dataframe\">\n",
              "  <thead>\n",
              "    <tr style=\"text-align: right;\">\n",
              "      <th></th>\n",
              "      <th>Alcohol</th>\n",
              "      <th>Malic.acid</th>\n",
              "      <th>Ash</th>\n",
              "      <th>Acl</th>\n",
              "      <th>Mg</th>\n",
              "      <th>Phenols</th>\n",
              "      <th>Flavanoids</th>\n",
              "      <th>Nonflavanoid.phenols</th>\n",
              "      <th>Proanth</th>\n",
              "      <th>Color.int</th>\n",
              "      <th>Hue</th>\n",
              "      <th>OD</th>\n",
              "      <th>Proline</th>\n",
              "    </tr>\n",
              "  </thead>\n",
              "  <tbody>\n",
              "    <tr>\n",
              "      <th>22</th>\n",
              "      <td>13.71</td>\n",
              "      <td>1.86</td>\n",
              "      <td>2.36</td>\n",
              "      <td>16.6</td>\n",
              "      <td>101</td>\n",
              "      <td>2.61</td>\n",
              "      <td>2.88</td>\n",
              "      <td>0.27</td>\n",
              "      <td>1.69</td>\n",
              "      <td>3.80</td>\n",
              "      <td>1.11</td>\n",
              "      <td>4.00</td>\n",
              "      <td>1035</td>\n",
              "    </tr>\n",
              "    <tr>\n",
              "      <th>108</th>\n",
              "      <td>12.22</td>\n",
              "      <td>1.29</td>\n",
              "      <td>1.94</td>\n",
              "      <td>19.0</td>\n",
              "      <td>92</td>\n",
              "      <td>2.36</td>\n",
              "      <td>2.04</td>\n",
              "      <td>0.39</td>\n",
              "      <td>2.08</td>\n",
              "      <td>2.70</td>\n",
              "      <td>0.86</td>\n",
              "      <td>3.02</td>\n",
              "      <td>312</td>\n",
              "    </tr>\n",
              "    <tr>\n",
              "      <th>175</th>\n",
              "      <td>13.27</td>\n",
              "      <td>4.28</td>\n",
              "      <td>2.26</td>\n",
              "      <td>20.0</td>\n",
              "      <td>120</td>\n",
              "      <td>1.59</td>\n",
              "      <td>0.69</td>\n",
              "      <td>0.43</td>\n",
              "      <td>1.35</td>\n",
              "      <td>10.20</td>\n",
              "      <td>0.59</td>\n",
              "      <td>1.56</td>\n",
              "      <td>835</td>\n",
              "    </tr>\n",
              "    <tr>\n",
              "      <th>145</th>\n",
              "      <td>13.16</td>\n",
              "      <td>3.57</td>\n",
              "      <td>2.15</td>\n",
              "      <td>21.0</td>\n",
              "      <td>102</td>\n",
              "      <td>1.50</td>\n",
              "      <td>0.55</td>\n",
              "      <td>0.43</td>\n",
              "      <td>1.30</td>\n",
              "      <td>4.00</td>\n",
              "      <td>0.60</td>\n",
              "      <td>1.68</td>\n",
              "      <td>830</td>\n",
              "    </tr>\n",
              "    <tr>\n",
              "      <th>71</th>\n",
              "      <td>13.86</td>\n",
              "      <td>1.51</td>\n",
              "      <td>2.67</td>\n",
              "      <td>25.0</td>\n",
              "      <td>86</td>\n",
              "      <td>2.95</td>\n",
              "      <td>2.86</td>\n",
              "      <td>0.21</td>\n",
              "      <td>1.87</td>\n",
              "      <td>3.38</td>\n",
              "      <td>1.36</td>\n",
              "      <td>3.16</td>\n",
              "      <td>410</td>\n",
              "    </tr>\n",
              "  </tbody>\n",
              "</table>\n",
              "</div>\n",
              "      <button class=\"colab-df-convert\" onclick=\"convertToInteractive('df-e42ba025-9b0d-4068-b6f2-356b5eb5e36d')\"\n",
              "              title=\"Convert this dataframe to an interactive table.\"\n",
              "              style=\"display:none;\">\n",
              "        \n",
              "  <svg xmlns=\"http://www.w3.org/2000/svg\" height=\"24px\"viewBox=\"0 0 24 24\"\n",
              "       width=\"24px\">\n",
              "    <path d=\"M0 0h24v24H0V0z\" fill=\"none\"/>\n",
              "    <path d=\"M18.56 5.44l.94 2.06.94-2.06 2.06-.94-2.06-.94-.94-2.06-.94 2.06-2.06.94zm-11 1L8.5 8.5l.94-2.06 2.06-.94-2.06-.94L8.5 2.5l-.94 2.06-2.06.94zm10 10l.94 2.06.94-2.06 2.06-.94-2.06-.94-.94-2.06-.94 2.06-2.06.94z\"/><path d=\"M17.41 7.96l-1.37-1.37c-.4-.4-.92-.59-1.43-.59-.52 0-1.04.2-1.43.59L10.3 9.45l-7.72 7.72c-.78.78-.78 2.05 0 2.83L4 21.41c.39.39.9.59 1.41.59.51 0 1.02-.2 1.41-.59l7.78-7.78 2.81-2.81c.8-.78.8-2.07 0-2.86zM5.41 20L4 18.59l7.72-7.72 1.47 1.35L5.41 20z\"/>\n",
              "  </svg>\n",
              "      </button>\n",
              "      \n",
              "  <style>\n",
              "    .colab-df-container {\n",
              "      display:flex;\n",
              "      flex-wrap:wrap;\n",
              "      gap: 12px;\n",
              "    }\n",
              "\n",
              "    .colab-df-convert {\n",
              "      background-color: #E8F0FE;\n",
              "      border: none;\n",
              "      border-radius: 50%;\n",
              "      cursor: pointer;\n",
              "      display: none;\n",
              "      fill: #1967D2;\n",
              "      height: 32px;\n",
              "      padding: 0 0 0 0;\n",
              "      width: 32px;\n",
              "    }\n",
              "\n",
              "    .colab-df-convert:hover {\n",
              "      background-color: #E2EBFA;\n",
              "      box-shadow: 0px 1px 2px rgba(60, 64, 67, 0.3), 0px 1px 3px 1px rgba(60, 64, 67, 0.15);\n",
              "      fill: #174EA6;\n",
              "    }\n",
              "\n",
              "    [theme=dark] .colab-df-convert {\n",
              "      background-color: #3B4455;\n",
              "      fill: #D2E3FC;\n",
              "    }\n",
              "\n",
              "    [theme=dark] .colab-df-convert:hover {\n",
              "      background-color: #434B5C;\n",
              "      box-shadow: 0px 1px 3px 1px rgba(0, 0, 0, 0.15);\n",
              "      filter: drop-shadow(0px 1px 2px rgba(0, 0, 0, 0.3));\n",
              "      fill: #FFFFFF;\n",
              "    }\n",
              "  </style>\n",
              "\n",
              "      <script>\n",
              "        const buttonEl =\n",
              "          document.querySelector('#df-e42ba025-9b0d-4068-b6f2-356b5eb5e36d button.colab-df-convert');\n",
              "        buttonEl.style.display =\n",
              "          google.colab.kernel.accessAllowed ? 'block' : 'none';\n",
              "\n",
              "        async function convertToInteractive(key) {\n",
              "          const element = document.querySelector('#df-e42ba025-9b0d-4068-b6f2-356b5eb5e36d');\n",
              "          const dataTable =\n",
              "            await google.colab.kernel.invokeFunction('convertToInteractive',\n",
              "                                                     [key], {});\n",
              "          if (!dataTable) return;\n",
              "\n",
              "          const docLinkHtml = 'Like what you see? Visit the ' +\n",
              "            '<a target=\"_blank\" href=https://colab.research.google.com/notebooks/data_table.ipynb>data table notebook</a>'\n",
              "            + ' to learn more about interactive tables.';\n",
              "          element.innerHTML = '';\n",
              "          dataTable['output_type'] = 'display_data';\n",
              "          await google.colab.output.renderOutput(dataTable, element);\n",
              "          const docLink = document.createElement('div');\n",
              "          docLink.innerHTML = docLinkHtml;\n",
              "          element.appendChild(docLink);\n",
              "        }\n",
              "      </script>\n",
              "    </div>\n",
              "  </div>\n",
              "  "
            ]
          },
          "metadata": {},
          "execution_count": 15
        }
      ],
      "source": [
        "X_train.head()"
      ]
    },
    {
      "cell_type": "code",
      "execution_count": 16,
      "metadata": {
        "scrolled": true,
        "colab": {
          "base_uri": "https://localhost:8080/"
        },
        "id": "psVpPhQspfNx",
        "outputId": "aedcc4c3-ed0f-481e-854a-674953d5189e"
      },
      "outputs": [
        {
          "output_type": "execute_result",
          "data": {
            "text/plain": [
              "array([0.41697149, 0.30446488, 0.16672225, 0.25594489, 0.18272976,\n",
              "       0.48436941, 0.7216235 , 0.09857294, 0.2677412 , 0.61417198,\n",
              "       0.56767144, 0.53855308, 0.53415077])"
            ]
          },
          "metadata": {},
          "execution_count": 16
        }
      ],
      "source": [
        "from sklearn.feature_selection import mutual_info_classif\n",
        "\n",
        "# determine the mutual information\n",
        "mutual_info = mutual_info_classif(X_train, y_train)\n",
        "mutual_info"
      ]
    },
    {
      "cell_type": "code",
      "execution_count": 17,
      "metadata": {
        "colab": {
          "base_uri": "https://localhost:8080/"
        },
        "id": "I1Ji4bN9pfNx",
        "outputId": "11817bcb-c394-4cab-f0d1-3f311f433b03"
      },
      "outputs": [
        {
          "output_type": "execute_result",
          "data": {
            "text/plain": [
              "Flavanoids              0.721624\n",
              "Color.int               0.614172\n",
              "Hue                     0.567671\n",
              "OD                      0.538553\n",
              "Proline                 0.534151\n",
              "Phenols                 0.484369\n",
              "Alcohol                 0.416971\n",
              "Malic.acid              0.304465\n",
              "Proanth                 0.267741\n",
              "Acl                     0.255945\n",
              "Mg                      0.182730\n",
              "Ash                     0.166722\n",
              "Nonflavanoid.phenols    0.098573\n",
              "dtype: float64"
            ]
          },
          "metadata": {},
          "execution_count": 17
        }
      ],
      "source": [
        "mutual_info = pd.Series(mutual_info)\n",
        "mutual_info.index = X_train.columns\n",
        "mutual_info.sort_values(ascending=False)"
      ]
    },
    {
      "cell_type": "code",
      "execution_count": 18,
      "metadata": {
        "colab": {
          "base_uri": "https://localhost:8080/",
          "height": 599
        },
        "id": "BTmu8XrWpfNx",
        "outputId": "588083fc-5a43-4d15-acda-1de53653d33a"
      },
      "outputs": [
        {
          "output_type": "execute_result",
          "data": {
            "text/plain": [
              "<Axes: >"
            ]
          },
          "metadata": {},
          "execution_count": 18
        },
        {
          "output_type": "display_data",
          "data": {
            "text/plain": [
              "<Figure size 1000x500 with 1 Axes>"
            ],
            "image/png": "[encoded data removed]"
          },
          "metadata": {}
        }
      ],
      "source": [
        "#let's plot the ordered mutual_info values per feature\n",
        "mutual_info.sort_values(ascending=False).plot.bar(figsize=(10, 5))"
      ]
    },
    {
      "cell_type": "code",
      "execution_count": 19,
      "metadata": {
        "id": "3LzwSkQEpfNy",
        "colab": {
          "base_uri": "https://localhost:8080/"
        },
        "outputId": "826e9d2d-cc30-4620-ebca-6989de6f383c"
      },
      "outputs": [
        {
          "output_type": "execute_result",
          "data": {
            "text/plain": [
              "Index(['Flavanoids', 'Color.int', 'Hue', 'OD', 'Proline'], dtype='object')"
            ]
          },
          "metadata": {},
          "execution_count": 19
        }
      ],
      "source": [
        "from sklearn.feature_selection import SelectKBest\n",
        "\n",
        "#No we Will select the  top 5 important features\n",
        "sel_five_cols = SelectKBest(mutual_info_classif, k=5)\n",
        "sel_five_cols.fit(X_train, y_train)\n",
        "X_train.columns[sel_five_cols.get_support()]"
      ]
    },
    {
      "cell_type": "markdown",
      "metadata": {
        "id": "vP2sf4hRpfNy"
      },
      "source": [
        "#### **Difference Between Information Gain And Mutual Information**\n",
        "\n",
        "\n",
        "$$I(X ; Y) = H(X) - H(X | Y)$$\n",
        "and\n",
        "$$IG(S, a) = H(S) - H(S | a)$$\n",
        "\n",
        "As such, mutual information is sometimes used as a synonym for\n",
        "information gain. Technically, they calculate the same quantity\n",
        "if applied to the same data.\n",
        "\n",
        "\n",
        "Mutual information $(I(X; Y))$ measures the amount of shared information between two variables, `X` and `Y`. It tells us how much knowing the value of one variable reduces uncertainty about the other variable.\n",
        "\n",
        "Information gain $(IG(S, a))$ is used in machine learning and decision trees to assess the usefulness of a feature (attribute) in predicting a target variable. It quantifies the reduction in uncertainty about the target variable achieved by splitting the data based on a specific feature.\n",
        "\n",
        "While mutual information and information gain may yield the same result when applied to the same data, they serve different purposes. Mutual information focuses on measuring the dependence between variables, while information gain is used for feature selection in machine learning."
      ]
    },
    {
      "cell_type": "markdown",
      "metadata": {
        "id": "0d5DglEwpfNz"
      },
      "source": [
        "### **Comparion of Univariate And Mutual Information**\n",
        "\n",
        "Comparison of `F-test` and `Mutual Information`?\n",
        "\n",
        "The `F-test` and `Mutual Information` are both **statistical measures** used to `analyze relationships between variables`, but they have different applications and interpretations.\n",
        "\n",
        "- The `F-test` is used to compare the variances between two or more groups or samples. It determines whether the means of these groups are significantly different from each other. The F-test calculates the ratio of the variances between groups and within groups, and based on this ratio, it determines the statistical significance of the differences. The F-test is commonly used in analysis of variance (ANOVA) to test for differences in means across multiple groups.\n",
        "\n",
        "- On the other hand, `Mutual Information` measures the dependence or information shared between two variables. It quantifies the reduction in uncertainty about one variable when the value of the other variable is known. Mutual Information is often used in feature selection and information theory. It helps identify the relevance or amount of information one variable provides about another.\n",
        "\n",
        "\n",
        "\n",
        "|     | F-test| Mutual Information |\n",
        "| --- | --------------------------------------------- | ---------------------------------------------- |\n",
        "| `Use` | Compares variances between groups              | Measures dependence between variables           |\n",
        "| `Application` | Testing differences in means across groups   | Feature selection, information theory           |\n",
        "| `Interpretation` | Determines statistical significance of differences | Quantifies shared information or dependence |\n",
        "| `Focus` | Group comparisons                              | Information content and relevance between variables |\n",
        "\n",
        "\n"
      ]
    },
    {
      "cell_type": "code",
      "source": [
        "import numpy as np\n",
        "import matplotlib.pyplot as plt\n",
        "from sklearn.feature_selection import f_regression, mutual_info_regression\n",
        "\n",
        "np.random.seed(0)\n",
        "X = np.random.rand(1000, 3)\n",
        "y = X[:, 0] + np.sin(6 * np.pi * X[:, 1]) + 0.1 * np.random.randn(1000)\n",
        "\n",
        "f_test, _ = f_regression(X, y)\n",
        "f_test /= np.max(f_test)\n",
        "\n",
        "mi = mutual_info_regression(X, y)\n",
        "mi /= np.max(mi)\n",
        "\n",
        "plt.figure(figsize=(10, 3))\n",
        "for i in range(3):\n",
        "    plt.subplot(1, 3, i + 1)\n",
        "    plt.scatter(X[:, i], y, edgecolor=\"black\", s=20)\n",
        "    plt.xlabel(\"$x_{}$\".format(i + 1), fontsize=14)\n",
        "    if i == 0:\n",
        "        plt.ylabel(\"$y$\", fontsize=14)\n",
        "    plt.title(\"F-test={:.2f}, MI={:.2f}\".format(f_test[i], mi[i]), fontsize=16)\n",
        "plt.show()"
      ],
      "metadata": {
        "colab": {
          "base_uri": "https://localhost:8080/",
          "height": 340
        },
        "id": "z8rF87WsLwFb",
        "outputId": "3516f886-55d0-4afc-fb6f-284455109644"
      },
      "execution_count": 20,
      "outputs": [
        {
          "output_type": "display_data",
          "data": {
            "text/plain": [
              "<Figure size 1000x300 with 3 Axes>"
            ],
            "image/png": "[encoded data removed]"
          },
          "metadata": {}
        }
      ]
    },
    {
      "cell_type": "markdown",
      "source": [
        "Learn about information gain and mutual information for feature selection\n",
        "Click to collapse\n",
        "00:00\n",
        "Information gain is also known as mutual information in classification\n",
        "Understanding statistical tests like p-value, t-test, and chi-square is important for feature selection\n",
        "\n",
        "\n",
        "Mutual information measures dependencies between variables\n",
        "Click to collapse\n",
        "02:13\n",
        "Mutual information is non-negative and equal to zero if variables are independent\n",
        "Mutual information is used in feature selection to compare independent features and find relationships with dependent feature\n",
        "\n",
        "\n",
        "\n",
        "Feature selection is crucial in classification\n",
        "Click to collapse\n",
        "04:32\n",
        "Statistical tests like chi square and mutual information are used for feature selection\n",
        "Mutual information measures the dependency between independent and target features\n",
        "\n",
        "Perform train test split to avoid overfitting\n",
        "Click to collapse\n",
        "06:48\n",
        "Check for unique values and preprocess data\n",
        "Perform feature selection using mutual info classification\n",
        "\n",
        "\n",
        "\n",
        "Using mutual info classification to select important features\n",
        "Click to collapse\n",
        "09:00\n",
        "Mutual info classification gives either zero or positive values for feature dependency on target variable\n",
        "Sorting the values in descending order gives the most important features, such as flavonoids\n",
        "\n",
        "\n",
        "\n",
        "Selecting top features using mutual information\n",
        "Click to collapse\n",
        "10:58\n",
        "Using mutual information to plot feature importance in decreasing order\n",
        "Selecting top features using select k best or percentile methods\n",
        "\n",
        "Selecting top 5 important features for machine learning model\n",
        "Click to collapse\n",
        "12:59\n",
        "Using get_support to get indexes of top features\n",
        "Information gain and mutual information are technically the same\n",
        "\n",
        "\n",
        "✦\n",
        "Mutual information is a good technique for feature selection\n",
        "Click to collapse\n",
        "15:07\n",
        "Mutual information can capture any kind of dependencies within the variable\n",
        "F-test captures only linear dependency"
      ],
      "metadata": {
        "id": "gpVkZN67C39o"
      }
    }
  ],
  "metadata": {
    "kernelspec": {
      "display_name": "Python 3",
      "language": "python",
      "name": "python3"
    },
    "language_info": {
      "codemirror_mode": {
        "name": "ipython",
        "version": 3
      },
      "file_extension": ".py",
      "mimetype": "text/x-python",
      "name": "python",
      "nbconvert_exporter": "python",
      "pygments_lexer": "ipython3",
      "version": "3.7.7"
    },
    "colab": {
      "provenance": [],
      "toc_visible": true
    }
  },
  "nbformat": 4,
  "nbformat_minor": 0
}